{
 "cells": [
  {
   "cell_type": "markdown",
   "metadata": {},
   "source": [
    "# Python_Lab_1.2"
   ]
  },
  {
   "cell_type": "markdown",
   "metadata": {},
   "source": [
    "### Task 1: \n",
    "1. Create a tuple with the following details:\n",
    "    - Your favorite movie (string)\n",
    "    - The year it was released (integer)\n",
    "    - Its rating out of 10 (float)\n",
    "    - Whether you have watched it (boolean)\n",
    "2. Print the detailes"
   ]
  },
  {
   "cell_type": "code",
   "execution_count": 1,
   "metadata": {},
   "outputs": [
    {
     "name": "stdout",
     "output_type": "stream",
     "text": [
      "('The Godfather', 1998, 9.5, True)\n"
     ]
    }
   ],
   "source": [
    "my_tuple = (\"The Godfather\" , 1998 , 9.5 , True)\n",
    "print(my_tuple)"
   ]
  },
  {
   "cell_type": "markdown",
   "metadata": {},
   "source": [
    "### Task 2:\n",
    "1. Create a set of 5 favorite colors.\n",
    "2. Print all the colors"
   ]
  },
  {
   "cell_type": "code",
   "execution_count": 3,
   "metadata": {},
   "outputs": [
    {
     "name": "stdout",
     "output_type": "stream",
     "text": [
      "yellow\n",
      "white\n",
      "blue\n",
      "red\n",
      "Green\n"
     ]
    }
   ],
   "source": [
    "# write your code here ^_^\n",
    "my_set = {\"red\",\"Green\",\"blue\",\"yellow\",\"white\"}\n",
    "for color in my_set:\n",
    "    print(color)"
   ]
  },
  {
   "cell_type": "markdown",
   "metadata": {},
   "source": [
    "### Task 3:\n",
    "1. Create a dictionary to store information about 3 friends (name as key and a tuple with age and favorite hobby as value).\n",
    "2. Print the details of all friends."
   ]
  },
  {
   "cell_type": "code",
   "execution_count": 5,
   "metadata": {},
   "outputs": [
    {
     "name": "stdout",
     "output_type": "stream",
     "text": [
      "my friend: khaled his age is: 20 and his  favorite hobby is: drawing \n",
      "my friend: Mohammed his age is: 30 and his  favorite hobby is: Reading \n",
      "my friend: Sara his age is: 25 and his  favorite hobby is: play fotball \n"
     ]
    }
   ],
   "source": [
    "# write your code here ^_^\n",
    "my_friends = {\"khaled\" : (20 , \"drawing\"),\n",
    "              \"Mohammed\": (30 , \"Reading\"),\n",
    "              \"Sara\": (25 , \"play fotball\")}\n",
    "for name , details in my_friends.items():\n",
    "    print(f\"my friend: {name} his age is: {details[0]} and his  favorite hobby is: {details[1]} \")"
   ]
  },
  {
   "cell_type": "markdown",
   "metadata": {},
   "source": [
    "### Task 4:\n",
    "1. Check if you have watched the movie and print an appropriate message.\n",
    "1. Check if a specific color is in your favorite colors set and print its availability status."
   ]
  },
  {
   "cell_type": "code",
   "execution_count": 7,
   "metadata": {},
   "outputs": [
    {
     "name": "stdout",
     "output_type": "stream",
     "text": [
      "Are you watch this movie before ? The Godfather Movie: \"Answer True or False \"\n"
     ]
    },
    {
     "name": "stdin",
     "output_type": "stream",
     "text": [
      " False\n"
     ]
    },
    {
     "name": "stdout",
     "output_type": "stream",
     "text": [
      "You have not watched the movie.\n",
      "What is your favorite color?\n"
     ]
    },
    {
     "name": "stdin",
     "output_type": "stream",
     "text": [
      " c\n"
     ]
    },
    {
     "name": "stdout",
     "output_type": "stream",
     "text": [
      "This color is not Availabil, these are the available colors:\n",
      "yellow white blue red Green "
     ]
    }
   ],
   "source": [
    "# write your code here ^_^\n",
    "print(f\"Are you watch this movie before ? {my_tuple[0]} Movie: \\\"Answer True or False \\\"\")\n",
    "watched_movie=input()\n",
    "if watched_movie is True:\n",
    "    print(\"You have watched the movie.\")\n",
    "else:\n",
    "    print(\"You have not watched the movie.\")\n",
    "    \n",
    "print(\"What is your favorite color?\")\n",
    "favorite = input()\n",
    "\n",
    "if favorite in my_set:\n",
    "    print(\"This color is availabil\")\n",
    "else:\n",
    "    print(\"This color is not Availabil, these are the available colors:\")\n",
    "    for color in my_set:\n",
    "        print(color , end=\" \")\n"
   ]
  },
  {
   "cell_type": "markdown",
   "metadata": {},
   "source": []
  }
 ],
 "metadata": {
  "kernelspec": {
   "display_name": "Python 3 (ipykernel)",
   "language": "python",
   "name": "python3"
  },
  "language_info": {
   "codemirror_mode": {
    "name": "ipython",
    "version": 3
   },
   "file_extension": ".py",
   "mimetype": "text/x-python",
   "name": "python",
   "nbconvert_exporter": "python",
   "pygments_lexer": "ipython3",
   "version": "3.12.4"
  }
 },
 "nbformat": 4,
 "nbformat_minor": 4
}
